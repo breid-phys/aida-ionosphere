{
 "cells": [
  {
   "attachments": {},
   "cell_type": "markdown",
   "metadata": {},
   "source": [
    "The following python packages will be used in the demonstration."
   ]
  },
  {
   "cell_type": "code",
   "execution_count": null,
   "metadata": {},
   "outputs": [],
   "source": [
    "import aida\n",
    "import numpy as np\n",
    "import matplotlib.pyplot as plt\n",
    "from matplotlib import colormaps\n"
   ]
  },
  {
   "attachments": {},
   "cell_type": "markdown",
   "metadata": {},
   "source": [
    "### AIDA State Object\n",
    "\n",
    "All AIDA calculations are performed through the `AIDAState` class."
   ]
  },
  {
   "cell_type": "code",
   "execution_count": null,
   "metadata": {},
   "outputs": [],
   "source": [
    "# Create an empty AIDAState\n",
    "Model = aida.AIDAState()\n"
   ]
  },
  {
   "attachments": {},
   "cell_type": "markdown",
   "metadata": {},
   "source": [
    "\n",
    "An AIDA State must be populated with data from an AIDA output file using the `AIDAState.readFile()` method. \n"
   ]
  },
  {
   "cell_type": "code",
   "execution_count": null,
   "metadata": {},
   "outputs": [],
   "source": [
    "# load test output file\n",
    "Model.readFile(\"./tests/data/output_3_231201_042500.h5\")\n"
   ]
  },
  {
   "attachments": {},
   "cell_type": "markdown",
   "metadata": {},
   "source": [
    "\n",
    "The `AIDAState` class has several attributes:\n",
    "\n",
    "* `AIDAState.Version` is the version and operating mode of the AIDA model which produced the file\n",
    "* `AIDAState.Time` is the time for which this file provides a description of the ionospheric state (in UNIX Epoch format)\n",
    "* `AIDAState.Metadata` contains information about the model used to generate the file\n",
    "    * `AIDAState.Metadata.ForecastStart` gives the time of the previous AIDA output used to forecast this output (in UNIX Epoch format)\n",
    "    * `AIDAState.Metadata.NeQuickFlux` gives the F10.7 cm flux passed to NEQuick for generating the AIDA background model\n",
    "    * `AIDAState.Metadata.NeQuickVersion` is the version of NeQuick used for generating the AIDA background model\n",
    "    * `AIDAState.Metadata.InstrumentsGNSS` gives a list of GNSS receivers used for generating the output\n",
    "    * `AIDAState.Metadata.InstrumentsIonosonde` gives a list of ionosondes used for generating the output\n",
    "\n",
    "The background state of an AIDA model output can be accessed using the `AIDAState.background()` method, which returns a copy of the `AIDAState` object with all parameters set to match the background state."
   ]
  },
  {
   "cell_type": "code",
   "execution_count": null,
   "metadata": {},
   "outputs": [],
   "source": [
    "print(Model.Version)\n",
    "print(Model.Time)\n",
    "print(Model.Metadata)\n"
   ]
  },
  {
   "attachments": {},
   "cell_type": "markdown",
   "metadata": {},
   "source": [
    "\n",
    "### Example 1: Electron Density (3D Grid)\n",
    "\n",
    "For most cases, the `AIDAState.calc()` method is used to calculate values of interest. `AIDAState.calc()` accepts `glat`, `glon`, and `alt` arguments, and the shape of the output is determined by the `grid` argument. If `grid = '3D'`, the `glat`, `glon`, and `alt` inputs will be broadcast together to produce a regular 3D grid. When `grid=3D` or `grid=2D`, AIDA can be more efficient when performing the internal spherical harmonic transformations, which is much more efficient for large, regular grids. When calculating arbitrary points, `grid=1D` must be used.\n"
   ]
  },
  {
   "cell_type": "code",
   "execution_count": null,
   "metadata": {},
   "outputs": [],
   "source": [
    "# create several arrays of coordinates\n",
    "glat = np.linspace(-90.0, 90, 100)\n",
    "glon = [0.0, 180.0]\n",
    "alt = np.linspace(0.0, 2e3, 150)\n",
    "\n",
    "# calculate AIDA output\n",
    "Output = Model.calc(lat=glat, lon=glon, alt=alt, grid=\"3D\", collapse_particles=True)\n"
   ]
  },
  {
   "attachments": {},
   "cell_type": "markdown",
   "metadata": {},
   "source": [
    "\n",
    "By default, `Output` is in the form of an `xarray.Dataset` object, for more information see [the `xarray` documentation](https://docs.xarray.dev/en/stable/index.html). To get the output in the form a python `dict`, pass `as_dict=True` to `AIDAState.calc()`.\n",
    "\n",
    "The output of `AIDAState.calc()` will have a field `Ne` containing the electron density, along with fields for all of the AIDA ionospheric profile parameters. In a 3D grid, the `Ne` field will have a size `(glon, glat, alt)`, and all other parameters will have size `(glon, glat)`.\n",
    "\n",
    "By default, the output fields will also have a dimension labelled `particle`, which corresponds to the ensemble size of the AIDA state. When working with model output, the particle dimension will always be of size 1, and so this extra dimension can be suppressed with the argument `collapse_particles=True`.\n"
   ]
  },
  {
   "cell_type": "code",
   "execution_count": null,
   "metadata": {},
   "outputs": [],
   "source": [
    "# create figure\n",
    "fig, axs = plt.subplots(len(glon), 1, squeeze=False)\n",
    "fig.set_size_inches(12, 9)\n",
    "\n",
    "for i, lon in enumerate(glon):\n",
    "    # plot latitudinal section for each longitude\n",
    "    ax = axs[i, 0]\n",
    "    pcm = ax.pcolor(Output.glat, Output.alt, np.log10(Output.Ne.sel(glon=lon).T))\n",
    "    ax.set_title(f\"AIDA Ne: lon = {lon}\")\n",
    "    fig.colorbar(pcm, ax=ax, label=f\"log10 {Output['Ne'].attrs['units']}\")\n",
    "    pcm.set_clim(8, 12.5)\n",
    "    pcm.set_cmap(colormaps[\"magma\"])\n",
    "\n",
    "fig.savefig(\"./tests/data/output_3D.png\")\n"
   ]
  },
  {
   "attachments": {},
   "cell_type": "markdown",
   "metadata": {},
   "source": [
    "\n",
    "### Example 2: Electron Density (2D Grid)\n",
    "\n",
    "For irregular grids, the argument `grid=2D` can be used. This requires `glat` and `glon` to be the same size.\n"
   ]
  },
  {
   "cell_type": "code",
   "execution_count": null,
   "metadata": {},
   "outputs": [],
   "source": [
    "# create irregular grid\n",
    "glat = [[45.0, 65.0, 77.0], [30.0, 40.0, 50.0]]\n",
    "glon = [[0.0, 345.0, -160.0], [-60.0, 61.1, 62.2]]\n",
    "alt = np.linspace(90.0, 500.0, 150)\n",
    "\n",
    "Output = Model.calc(\n",
    "    lat=glat, lon=glon, alt=alt, grid=\"2D\", collapse_particles=True, as_dict=True\n",
    ")\n"
   ]
  },
  {
   "attachments": {},
   "cell_type": "markdown",
   "metadata": {},
   "source": [
    "\n",
    "In this example, the output is in `dict` format.\n"
   ]
  },
  {
   "cell_type": "code",
   "execution_count": null,
   "metadata": {},
   "outputs": [],
   "source": [
    "# create figure\n",
    "fig, axs = plt.subplots(1, 2, squeeze=False)\n",
    "fig.set_size_inches(6, 6)\n",
    "\n",
    "for i, lon in enumerate(glon):\n",
    "    # plot profiles and mark layers\n",
    "    ax = axs[0, i]\n",
    "    ax.plot(Output[\"Ne\"][i, :].T, Output[\"alt\"])\n",
    "    ax.scatter(Output[\"NmF2\"][i, :], Output[\"hmF2\"][i, :])\n",
    "    ax.scatter(Output[\"NmF1\"][i, :], Output[\"hmF1\"][i, :])\n",
    "    ax.scatter(Output[\"NmE\"][i, :], Output[\"hmE\"][i, :])\n",
    "\n",
    "fig.savefig(\"./tests/data/output_2D.png\")\n"
   ]
  },
  {
   "attachments": {},
   "cell_type": "markdown",
   "metadata": {},
   "source": [
    "\n",
    "### Example 3: Maps\n",
    "\n",
    "AIDA uses a parameterized ionospheric profile, and many of these profile parameters are of interest, in addition to the electron density. `AIDAState.calc()` will generate these values along with the electron density. If the `alt` argument is omitted, electron density `Ne` will not be calculated. \n",
    "\n",
    "AIDA can also calculate derived quantities, such as the Total Electron Content (TEC) and MUF3000. These are more computationally expensive, and are disabled by default. They can be included by passing the arguments `TEC=True` and `MUF3000=True` to `AIDAState.calc()`.\n"
   ]
  },
  {
   "cell_type": "code",
   "execution_count": null,
   "metadata": {},
   "outputs": [],
   "source": [
    "glat = np.linspace(-90.0, 90)\n",
    "glon = np.linspace(-180.0, 180.0, 70)\n",
    "\n",
    "Output = Model.calc(\n",
    "    lat=glat, lon=glon, grid=\"3D\", TEC=True, MUF3000=True, collapse_particles=True\n",
    ")\n"
   ]
  },
  {
   "attachments": {},
   "cell_type": "markdown",
   "metadata": {},
   "source": [
    "\n",
    "In this example, the AIDA model will be compared to the values given in the background model.\n"
   ]
  },
  {
   "cell_type": "code",
   "execution_count": null,
   "metadata": {},
   "outputs": [],
   "source": [
    "BkgModel = Model.background()\n",
    "BkgOutput = BkgModel.calc(\n",
    "    lat=glat, lon=glon, grid=\"3D\", TEC=True, MUF3000=True, collapse_particles=True\n",
    ")\n"
   ]
  },
  {
   "cell_type": "code",
   "execution_count": null,
   "metadata": {},
   "outputs": [],
   "source": [
    "Output[\"foF2\"].attrs\n"
   ]
  },
  {
   "cell_type": "code",
   "execution_count": null,
   "metadata": {},
   "outputs": [],
   "source": [
    "fig, axs = plt.subplots(3, 5, squeeze=False)\n",
    "fig.set_size_inches(15, 10)\n",
    "\n",
    "for i, d in enumerate([\"NmF2\", \"hmF2\", \"TEC\", \"MUF3000\", \"foF2\"]):\n",
    "\n",
    "    ax = axs[0, i]\n",
    "    pcm = ax.pcolor(Output.glon, Output.glat, Output[d].T)\n",
    "    ax.set_title(f\"AIDA {d}\")\n",
    "    fig.colorbar(pcm, ax=ax, label=Output[d].attrs[\"units\"])\n",
    "    pcm.set_cmap(colormaps[\"magma\"])\n",
    "    cl = pcm.get_clim()\n",
    "\n",
    "    ax = axs[1, i]\n",
    "    pcm = ax.pcolor(BkgOutput.glon, BkgOutput.glat, BkgOutput[d].T)\n",
    "    ax.set_title(f\"Background {d}\")\n",
    "    fig.colorbar(pcm, ax=ax, label=Output[d].attrs[\"units\"])\n",
    "    pcm.set_cmap(colormaps[\"magma\"])\n",
    "    pcm.set_clim(cl)\n",
    "\n",
    "    ax = axs[2, i]\n",
    "    pcm = ax.pcolor(BkgOutput.glon, BkgOutput.glat, (Output[d] - BkgOutput[d]).T)\n",
    "    ax.set_title(f\"Difference {d}\")\n",
    "    fig.colorbar(pcm, ax=ax, label=Output[d].attrs[\"units\"])\n",
    "    cl = np.max(np.abs(pcm.get_clim()))\n",
    "    pcm.set_clim(-cl, cl)\n",
    "    pcm.set_cmap(colormaps[\"bwr\"])\n",
    "\n",
    "fig.savefig(\"./tests/data/output_Map.png\")\n"
   ]
  },
  {
   "attachments": {},
   "cell_type": "markdown",
   "metadata": {},
   "source": [
    "\n",
    "### Example 4: Electron Density (Advanced Usage)\n",
    "\n",
    "For some performance-critical applications, it is desireable to calculate only the electron density without additional overhead. This can be achieved with the `AIDAState.calcNe()` method. Like `AIDAState.calc()`, it accepts `glat`, `glon`, `alt`, and `grid`, but outputs only the electron density `Ne` as a `numpy` array. `AIDAState.calcNe()` is often 2 to 5 times faster than calling `AIDAState.calc()` for grid points with 1e3 to 1e4 unique lat/lon pairs.\n",
    "\n",
    "**CAUTION: `AIDAState.calcNe()` produces output in units of 1e11 m-3, not in unites of m-3! You must multiply the output by 1e11 to get the true electron density.**\n",
    "\n",
    "Use of `AIDAState.calcNe()` is not recommended unless required, such as when calculating sample points for sTEC calculations. \n"
   ]
  },
  {
   "cell_type": "code",
   "execution_count": null,
   "metadata": {},
   "outputs": [],
   "source": [
    "def cartsph(x, y, z):\n",
    "    # convert from ECEF to GEO\n",
    "    rad = np.sqrt(x**2 + y**2 + z**2)\n",
    "    lat = np.arctan2(z, np.sqrt(x**2 + y**2))\n",
    "    lon = np.arctan2(y, x)\n",
    "\n",
    "    return rad, lat, lon\n",
    "\n",
    "\n",
    "def sphcart(rad, lat, lon):\n",
    "    # convert from GEO to ECEF\n",
    "    x = rad * np.cos(lat) * np.cos(lon)\n",
    "    y = rad * np.cos(lat) * np.sin(lon)\n",
    "    z = rad * np.sin(lat)\n",
    "\n",
    "    return x, y, z\n"
   ]
  },
  {
   "attachments": {},
   "cell_type": "markdown",
   "metadata": {},
   "source": [
    "\n",
    "In this example slant Total Electron Content will be calculated between two points.\n"
   ]
  },
  {
   "cell_type": "code",
   "execution_count": null,
   "metadata": {},
   "outputs": [],
   "source": [
    "# Earth's Radius\n",
    "Re = 6371e3\n",
    "\n",
    "# receiver and satellite coordinates (ECEF)\n",
    "rX, rY, rZ = sphcart(Re, np.deg2rad(45.0), np.deg2rad(0.0))\n",
    "tX, tY, tZ = sphcart(Re + 22000e3, np.deg2rad(-30.0), np.deg2rad(10.0))\n",
    "\n",
    "# create linear sample points\n",
    "t = np.linspace(0, 1, 1000)\n",
    "x = rX + (tX - rX) * t\n",
    "y = rY + (tY - rY) * t\n",
    "z = rZ + (tZ - rZ) * t\n",
    "\n",
    "# find geo coordinates of sample points\n",
    "rad, glat_r, glon_r = cartsph(x, y, z)\n",
    "alt = (rad - Re) * 1e-3\n",
    "glat = np.rad2deg(glat_r)\n",
    "glon = np.rad2deg(glon_r)\n"
   ]
  },
  {
   "attachments": {},
   "cell_type": "markdown",
   "metadata": {},
   "source": [
    "\n",
    "The electron density can be calculated with:\n"
   ]
  },
  {
   "cell_type": "code",
   "execution_count": null,
   "metadata": {},
   "outputs": [],
   "source": [
    "# output is in 1e11 m-3!\n",
    "Ne = Model.calcNe(lat=glat, lon=glon, alt=alt, grid=\"1D\")\n"
   ]
  },
  {
   "cell_type": "code",
   "execution_count": null,
   "metadata": {},
   "outputs": [],
   "source": [
    "# linear distance (m)\n",
    "d = np.sqrt((x - rX) ** 2 + (y - rY) ** 2 + (z - rZ) ** 2)\n",
    "\n",
    "# integrate along ray\n",
    "sTEC = np.trapz(Ne, d)  # array([3.36102813e+17])\n",
    "\n",
    "print(sTEC)\n"
   ]
  },
  {
   "attachments": {},
   "cell_type": "markdown",
   "metadata": {},
   "source": [
    "The difference in performance between `AIDAState.calc()` and `AIDAState.calcNe()` can be shown:"
   ]
  },
  {
   "cell_type": "code",
   "execution_count": null,
   "metadata": {},
   "outputs": [],
   "source": [
    "import time\n",
    "\n",
    "# time calcNe\n",
    "t_start = time.perf_counter()\n",
    "Output = Model.calcNe(lat=glat, lon=glon, alt=alt, grid=\"1D\")\n",
    "t_stop = time.perf_counter()\n",
    "t_calcNe = t_stop - t_start\n",
    "print(f\"calcNe in {t_calcNe:.5f}\")\n",
    "\n",
    "# time calc\n",
    "t_start = time.perf_counter()\n",
    "Output = Model.calc(lat=glat, lon=glon, alt=alt, grid=\"1D\")\n",
    "t_stop = time.perf_counter()\n",
    "t_calc = t_stop - t_start\n",
    "print(f\"calc in {t_calc:.5f}\")\n",
    "\n",
    "# time calc with TEC and MUF\n",
    "t_start = time.perf_counter()\n",
    "Output = Model.calc(lat=glat, lon=glon, alt=alt, grid=\"1D\", TEC=True, MUF3000=True)\n",
    "t_stop = time.perf_counter()\n",
    "t_TEC = t_stop - t_start\n",
    "print(f\"calc (with TEC) in {t_TEC:.5f}\")\n"
   ]
  }
 ],
 "metadata": {
  "kernelspec": {
   "display_name": ".venv",
   "language": "python",
   "name": "python3"
  },
  "language_info": {
   "codemirror_mode": {
    "name": "ipython",
    "version": 3
   },
   "file_extension": ".py",
   "mimetype": "text/x-python",
   "name": "python",
   "nbconvert_exporter": "python",
   "pygments_lexer": "ipython3",
   "version": "3.11.8"
  },
  "orig_nbformat": 4
 },
 "nbformat": 4,
 "nbformat_minor": 2
}
